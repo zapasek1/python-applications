{
 "cells": [
  {
   "attachments": {},
   "cell_type": "markdown",
   "metadata": {},
   "source": [
    "## Products Table"
   ]
  },
  {
   "cell_type": "code",
   "execution_count": 1,
   "metadata": {},
   "outputs": [],
   "source": [
    "from database import Product, db, app\n",
    "import json \n",
    "import pandas as pd\n",
    "\n",
    "def create_product(name, discountPrice, price, stock, description, image):\n",
    "  with app.app_context():\n",
    "    product = Product(name=name, discountPrice=discountPrice, price=price, stock=stock, description=description, image=image)\n",
    "    db.session.add(product)\n",
    "    db.session.commit()\n",
    "    \n",
    "def import_products():\n",
    "  f = open('products.json')\n",
    "  products = json.load(f)\n",
    "  for product in products:\n",
    "    create_product(product['name'], product['discountPrice'], product['price'], product['stock'], product['description'], product['image'])\n",
    "\n",
    "def create_db():\n",
    "  with app.app_context():\n",
    "    db.create_all()\n",
    "    \n",
    "def clean_db():\n",
    "  with app.app_context():\n",
    "    db.drop_all()\n",
    "    \n",
    "def initialize_db():\n",
    "  clean_db()\n",
    "  create_db()\n",
    "  import_products()\n",
    "\n",
    "def get_product(id):\n",
    "  with app.app_context():\n",
    "    return Product.query.get_or_404(id)\n",
    "  \n",
    "def get_products():\n",
    "  with app.app_context():\n",
    "    return Product.query.all()\n",
    "  \n",
    "def get_first_product():\n",
    "  with app.app_context():\n",
    "    return Product.query.first()  \n",
    "\n",
    "def products_to_df():\n",
    "  products = get_products()  \n",
    "  return pd.DataFrame([product.__dict__ for product in products])\n"
   ]
  },
  {
   "attachments": {},
   "cell_type": "markdown",
   "metadata": {},
   "source": [
    "## Users Table"
   ]
  },
  {
   "cell_type": "code",
   "execution_count": 8,
   "metadata": {},
   "outputs": [
    {
     "data": {
      "text/plain": [
       "[User('test_user', 'minowak@kozminski.edu.pl'),\n",
       " User('admin', 'admin@localhost.com')]"
      ]
     },
     "execution_count": 8,
     "metadata": {},
     "output_type": "execute_result"
    }
   ],
   "source": [
    "from database import User, db, app\n",
    "\n",
    "def create_user(username, email, password):\n",
    "  with app.app_context():\n",
    "    user = User(username=username, email=email, password=password)\n",
    "    db.session.add(user)\n",
    "    db.session.commit()\n",
    "    \n",
    "def get_user(id):\n",
    "  with app.app_context():\n",
    "    return User.query.get_or_404(id)\n",
    "    \n",
    "def get_users():\n",
    "  with app.app_context():\n",
    "    return User.query.all()\n",
    "get_users()"
   ]
  },
  {
   "cell_type": "code",
   "execution_count": 5,
   "metadata": {},
   "outputs": [],
   "source": [
    "import_products()"
   ]
  },
  {
   "cell_type": "code",
   "execution_count": 3,
   "metadata": {},
   "outputs": [],
   "source": [
    "create_product(\n",
    "  \"Iphone 12\", \n",
    "  1000, \n",
    "  1200, \n",
    "  10, \n",
    "  \"Iphone 12\", \n",
    "  \"https://store.storeimages.cdn-apple.com/4668/as-images.apple.com/is/iphone-12-finish-unselect-gallery-1-202207_GEO_EMEA_FMT_WHH?wid=1280&hei=492&fmt=p-jpg&qlt=80&.v=1662129044219\"\n",
    "  )"
   ]
  },
  {
   "cell_type": "code",
   "execution_count": 5,
   "metadata": {},
   "outputs": [
    {
     "data": {
      "text/html": [
       "<div>\n",
       "<style scoped>\n",
       "    .dataframe tbody tr th:only-of-type {\n",
       "        vertical-align: middle;\n",
       "    }\n",
       "\n",
       "    .dataframe tbody tr th {\n",
       "        vertical-align: top;\n",
       "    }\n",
       "\n",
       "    .dataframe thead th {\n",
       "        text-align: right;\n",
       "    }\n",
       "</style>\n",
       "<table border=\"1\" class=\"dataframe\">\n",
       "  <thead>\n",
       "    <tr style=\"text-align: right;\">\n",
       "      <th></th>\n",
       "      <th>_sa_instance_state</th>\n",
       "      <th>discountPrice</th>\n",
       "      <th>stock</th>\n",
       "      <th>id</th>\n",
       "      <th>image</th>\n",
       "      <th>name</th>\n",
       "      <th>price</th>\n",
       "      <th>description</th>\n",
       "    </tr>\n",
       "  </thead>\n",
       "  <tbody>\n",
       "    <tr>\n",
       "      <th>0</th>\n",
       "      <td>&lt;sqlalchemy.orm.state.InstanceState object at ...</td>\n",
       "      <td>599.0</td>\n",
       "      <td>10</td>\n",
       "      <td>1</td>\n",
       "      <td>https://www.vedion.pl/pol_pl_Apple-iPhone-11-W...</td>\n",
       "      <td>iPhone 11</td>\n",
       "      <td>699.0</td>\n",
       "      <td>The iPhone 11 is the latest iPhone from Apple....</td>\n",
       "    </tr>\n",
       "    <tr>\n",
       "      <th>1</th>\n",
       "      <td>&lt;sqlalchemy.orm.state.InstanceState object at ...</td>\n",
       "      <td>NaN</td>\n",
       "      <td>5</td>\n",
       "      <td>2</td>\n",
       "      <td>https://store.storeimages.cdn-apple.com/4668/a...</td>\n",
       "      <td>iPhone 11 Pro</td>\n",
       "      <td>999.0</td>\n",
       "      <td>The iPhone 11 Pro is the latest iPhone from Ap...</td>\n",
       "    </tr>\n",
       "    <tr>\n",
       "      <th>2</th>\n",
       "      <td>&lt;sqlalchemy.orm.state.InstanceState object at ...</td>\n",
       "      <td>NaN</td>\n",
       "      <td>0</td>\n",
       "      <td>3</td>\n",
       "      <td>https://www.apple.com/newsroom/images/product/...</td>\n",
       "      <td>iPhone 11 Pro Max</td>\n",
       "      <td>1099.0</td>\n",
       "      <td>The iPhone 11 Pro Max is the latest iPhone fro...</td>\n",
       "    </tr>\n",
       "    <tr>\n",
       "      <th>3</th>\n",
       "      <td>&lt;sqlalchemy.orm.state.InstanceState object at ...</td>\n",
       "      <td>NaN</td>\n",
       "      <td>10</td>\n",
       "      <td>4</td>\n",
       "      <td>https://v.wpimg.pl/ZGYyODMudSY4Gzl3Yg54M3tDbS0...</td>\n",
       "      <td>iPhone SE</td>\n",
       "      <td>399.0</td>\n",
       "      <td>The iPhone SE is the latest iPhone from Apple....</td>\n",
       "    </tr>\n",
       "    <tr>\n",
       "      <th>4</th>\n",
       "      <td>&lt;sqlalchemy.orm.state.InstanceState object at ...</td>\n",
       "      <td>NaN</td>\n",
       "      <td>10</td>\n",
       "      <td>5</td>\n",
       "      <td>https://store.storeimages.cdn-apple.com/4668/a...</td>\n",
       "      <td>iPhone XR</td>\n",
       "      <td>599.0</td>\n",
       "      <td>The iPhone XR is the latest iPhone from Apple....</td>\n",
       "    </tr>\n",
       "    <tr>\n",
       "      <th>5</th>\n",
       "      <td>&lt;sqlalchemy.orm.state.InstanceState object at ...</td>\n",
       "      <td>1000.0</td>\n",
       "      <td>10</td>\n",
       "      <td>6</td>\n",
       "      <td>https://store.storeimages.cdn-apple.com/4668/a...</td>\n",
       "      <td>Iphone 12</td>\n",
       "      <td>1200.0</td>\n",
       "      <td>Iphone 12</td>\n",
       "    </tr>\n",
       "  </tbody>\n",
       "</table>\n",
       "</div>"
      ],
      "text/plain": [
       "                                  _sa_instance_state  discountPrice  stock  \\\n",
       "0  <sqlalchemy.orm.state.InstanceState object at ...          599.0     10   \n",
       "1  <sqlalchemy.orm.state.InstanceState object at ...            NaN      5   \n",
       "2  <sqlalchemy.orm.state.InstanceState object at ...            NaN      0   \n",
       "3  <sqlalchemy.orm.state.InstanceState object at ...            NaN     10   \n",
       "4  <sqlalchemy.orm.state.InstanceState object at ...            NaN     10   \n",
       "5  <sqlalchemy.orm.state.InstanceState object at ...         1000.0     10   \n",
       "\n",
       "   id                                              image               name  \\\n",
       "0   1  https://www.vedion.pl/pol_pl_Apple-iPhone-11-W...          iPhone 11   \n",
       "1   2  https://store.storeimages.cdn-apple.com/4668/a...      iPhone 11 Pro   \n",
       "2   3  https://www.apple.com/newsroom/images/product/...  iPhone 11 Pro Max   \n",
       "3   4  https://v.wpimg.pl/ZGYyODMudSY4Gzl3Yg54M3tDbS0...          iPhone SE   \n",
       "4   5  https://store.storeimages.cdn-apple.com/4668/a...          iPhone XR   \n",
       "5   6  https://store.storeimages.cdn-apple.com/4668/a...          Iphone 12   \n",
       "\n",
       "    price                                        description  \n",
       "0   699.0  The iPhone 11 is the latest iPhone from Apple....  \n",
       "1   999.0  The iPhone 11 Pro is the latest iPhone from Ap...  \n",
       "2  1099.0  The iPhone 11 Pro Max is the latest iPhone fro...  \n",
       "3   399.0  The iPhone SE is the latest iPhone from Apple....  \n",
       "4   599.0  The iPhone XR is the latest iPhone from Apple....  \n",
       "5  1200.0                                          Iphone 12  "
      ]
     },
     "execution_count": 5,
     "metadata": {},
     "output_type": "execute_result"
    }
   ],
   "source": [
    "products_to_df()"
   ]
  },
  {
   "cell_type": "code",
   "execution_count": null,
   "metadata": {},
   "outputs": [],
   "source": []
  }
 ],
 "metadata": {
  "kernelspec": {
   "display_name": "Python 3",
   "language": "python",
   "name": "python3"
  },
  "language_info": {
   "codemirror_mode": {
    "name": "ipython",
    "version": 3
   },
   "file_extension": ".py",
   "mimetype": "text/x-python",
   "name": "python",
   "nbconvert_exporter": "python",
   "pygments_lexer": "ipython3",
   "version": "3.10.8"
  },
  "orig_nbformat": 4
 },
 "nbformat": 4,
 "nbformat_minor": 2
}

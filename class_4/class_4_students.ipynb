{
 "cells": [
  {
   "attachments": {},
   "cell_type": "markdown",
   "metadata": {},
   "source": [
    "# Class 4\n",
    "\n",
    "## Web Servers Frameworks\n",
    "---\n",
    "\n",
    "### What are web servers?\n",
    "\n",
    "Web servers are software applications that handle HTTP requests and responses between clients (such as web browsers) and web applications. A web server listens for incoming HTTP requests from clients, processes those requests, and sends back HTTP responses with the requested content, such as web pages, images, videos, or other types of data.\n",
    "\n"
   ]
  },
  {
   "cell_type": "code",
   "execution_count": null,
   "metadata": {},
   "outputs": [],
   "source": [
    "pip install -r requirements.txt"
   ]
  },
  {
   "attachments": {},
   "cell_type": "markdown",
   "metadata": {},
   "source": [
    "## Important\n",
    "\n",
    "Make sure you are running server code pieces in `server` directory. \n",
    "\n",
    "```bash\n",
    "cd server\n",
    "```"
   ]
  },
  {
   "attachments": {},
   "cell_type": "markdown",
   "metadata": {},
   "source": [
    "### Hello World\n",
    "\n",
    "Let's start with a simple example. We will create a simple web server that will respond to all requests with the same message: \"Hello World!\".\n",
    "\n",
    "[Open Server File](server/0.1_hello.py)\n",
    "\n",
    "```bash\n",
    "$ python3 server/0.1_hello.py\n",
    "```"
   ]
  },
  {
   "attachments": {},
   "cell_type": "markdown",
   "metadata": {},
   "source": [
    "### Debug Mode\n",
    "\n",
    "When you are developing your web application, you will want to enable debug mode. This will enable a debugger in the server and provide you with useful error messages when things go wrong.\n",
    "\n",
    "[Open Server File](server/0.2_debug.py)"
   ]
  },
  {
   "attachments": {},
   "cell_type": "markdown",
   "metadata": {},
   "source": [
    "### Multiple Routes\n",
    "\n",
    "In the previous example, we created a web server that responds to all requests with the same message. In this example, we will create a web server that responds to different requests with different messages.\n",
    "\n",
    "[Open Server File](server/0.3_routing.py)"
   ]
  },
  {
   "attachments": {},
   "cell_type": "markdown",
   "metadata": {},
   "source": [
    "### Using Templates\n",
    "\n",
    "Templates are a way to separate the content of your web page from the HTML code that displays it. This allows you to create a single template that can be used to display different content.\n",
    "\n",
    "[Open Server File](server/0.4_templates.py)"
   ]
  },
  {
   "attachments": {},
   "cell_type": "markdown",
   "metadata": {},
   "source": [
    "### Dynamic Data\n",
    "\n",
    "Let's add some fake data to our template. We will create a list of dictionaries, each containing the name, price, and description of a product. We will then pass this list to our template.\n",
    "\n",
    "[Open Server File](server/0.5_dynamic_data.py)"
   ]
  },
  {
   "attachments": {},
   "cell_type": "markdown",
   "metadata": {},
   "source": [
    "### If statements\n",
    "\n",
    "Let's add some logic to our template. We will use an if statement to check if the product is on sale. If it is, we will display the sale price, otherwise we will display the regular price.\n",
    "\n",
    "[Open Server File](server/0.6_if.py)"
   ]
  },
  {
   "attachments": {},
   "cell_type": "markdown",
   "metadata": {},
   "source": [
    "### <span style=\"color:red\">**TASK**</span>\n",
    "\n",
    "Define a new property in the products.json file called `colors` and add a list of colors to each product. Then, in the template, display the colors for each product."
   ]
  },
  {
   "attachments": {},
   "cell_type": "markdown",
   "metadata": {},
   "source": [
    "### Layouts, blocks & stylesheets\n",
    "\n",
    "Let's add a layout to our template. We will create a base template that contains the HTML code for the page layout. Then, we will create a child template that extends the base template and contains the content for the page.\n",
    "\n",
    "We will be using Tailwind CSS for this example. Tailwind is a utility-first CSS framework for rapidly building custom user interfaces.\n",
    "\n",
    "[Open Server File](server/0.7_leyout.py)\n",
    "\n",
    "[Tailwind CSS](https://tailwindcss.com/docs)"
   ]
  },
  {
   "attachments": {},
   "cell_type": "markdown",
   "metadata": {},
   "source": [
    "### <span style=\"color:red\">**TASK**</span>\n",
    "\n",
    "1. Convert `home.html` and `about.html` templates to use the `layout.html` layout. Name them `home_layout.html` and `about_layout.html` and place them in the `templates` directory.\n",
    "\n",
    "2. Create new template called `navigation.html` and place it in the `templates` directory. This template should contain the navigation bar for the website. It should be included in the `layout.html` template. You can find the HTML code for the navigation bar in the `snippets` directory."
   ]
  },
  {
   "attachments": {},
   "cell_type": "markdown",
   "metadata": {},
   "source": [
    "### Database connection\n",
    "\n",
    "Let's connect our web server to a database. We will use SQLite for this example. SQLite is a relational database management system contained in a C programming library. In contrast to many other database management systems, SQLite is not a client–server database engine. Rather, it is embedded into the end program.\n",
    "\n",
    "[Open Server File](server/database.py)"
   ]
  },
  {
   "attachments": {},
   "cell_type": "markdown",
   "metadata": {},
   "source": [
    "### Test database connection\n",
    "\n",
    "[Test File](server/test_database.ipynb)"
   ]
  },
  {
   "attachments": {},
   "cell_type": "markdown",
   "metadata": {},
   "source": [
    "### <span style=\"color:green\">**GROUP 1 TASK**</span>\n",
    "\n",
    "Create two functions in test_database.ipynb file:\n",
    "1. `remove_product` - remove product from database, function should take product id as parameter\n",
    "2. `edit_product` - edit product in database, function should take product id and new product name as parameters"
   ]
  },
  {
   "attachments": {},
   "cell_type": "markdown",
   "metadata": {},
   "source": [
    "### <span style=\"color:red\">**GROUP 2 TASK**</span>\n",
    "\n",
    "Create a new route called `/products/<product_id>` that will display accept an id and display the product details page with that id. Use template from `snippets/pdp.html` file to speed up your work."
   ]
  },
  {
   "attachments": {},
   "cell_type": "markdown",
   "metadata": {},
   "source": [
    "### Forms\n",
    "\n",
    "Let's add a form to our web application. We will create a form that allows users to add new users to our database.\n",
    "\n",
    "[Open Server File](server/0.8.forms.py)"
   ]
  },
  {
   "attachments": {},
   "cell_type": "markdown",
   "metadata": {},
   "source": [
    "---"
   ]
  },
  {
   "attachments": {},
   "cell_type": "markdown",
   "metadata": {},
   "source": [
    "## Flask API\n",
    "\n",
    "Sometimes you need to create a web server that will respond to requests from other applications. For example, you might want to create a web server that will respond to requests from a mobile application. In this case, you will need to create a web server that uses the REST API architecture.\n",
    "\n",
    "### REST API\n",
    "\n",
    "REST stands for Representational State Transfer, and it is an architectural style for building web services. RESTful web services are designed to be stateless, scalable, and easy to consume by client applications.\n",
    "\n",
    "A RESTful API is a web service that follows the REST architecture principles. It allows clients to access and manipulate resources on a server using a standardized set of HTTP methods, such as GET, POST, PUT, DELETE, and PATCH.\n",
    "\n",
    "The resources in a RESTful API are typically represented by URIs (Uniform Resource Identifiers), and each resource has a state that can be retrieved, modified, or deleted using the appropriate HTTP method. The responses from a RESTful API are usually in a format such as JSON (JavaScript Object Notation) or XML (Extensible Markup Language).\n",
    "\n",
    "In addition to the basic HTTP methods, RESTful APIs can also support other HTTP features such as content negotiation, caching, and authentication. Content negotiation allows the client and server to agree on the format of the response data, while caching reduces the need for repeated requests to the server. Authentication provides a secure way to restrict access to the API. \n",
    "\n",
    "[Open Server File](server/1.1_api.py)"
   ]
  },
  {
   "attachments": {},
   "cell_type": "markdown",
   "metadata": {},
   "source": [
    "### Test API"
   ]
  },
  {
   "cell_type": "code",
   "execution_count": null,
   "metadata": {},
   "outputs": [],
   "source": [
    "import requests\n",
    "\n",
    "URL = 'http://127.0.0.1:5000/api'\n",
    "\n",
    "def get_product(id: int):\n",
    "  res = requests.get(f'{URL}/product/{id}')\n",
    "  if res.status_code == 200:\n",
    "    return res.json()\n",
    "  else:\n",
    "    return None\n",
    "  \n",
    "get_product(3)"
   ]
  },
  {
   "attachments": {},
   "cell_type": "markdown",
   "metadata": {},
   "source": [
    "## References\n",
    "\n",
    "[Python Developer Roadmap](https://roadmap.sh/python)"
   ]
  }
 ],
 "metadata": {
  "kernelspec": {
   "display_name": "Python 3",
   "language": "python",
   "name": "python3"
  },
  "language_info": {
   "codemirror_mode": {
    "name": "ipython",
    "version": 3
   },
   "file_extension": ".py",
   "mimetype": "text/x-python",
   "name": "python",
   "nbconvert_exporter": "python",
   "pygments_lexer": "ipython3",
   "version": "3.10.8"
  },
  "orig_nbformat": 4
 },
 "nbformat": 4,
 "nbformat_minor": 2
}
